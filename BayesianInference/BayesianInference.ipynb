{
 "cells": [
  {
   "cell_type": "markdown",
   "metadata": {},
   "source": [
    "# Tutorial on Bayesian Inference"
   ]
  },
  {
   "cell_type": "markdown",
   "metadata": {},
   "source": [
    "### 1. Extragalactic radio sources"
   ]
  },
  {
   "cell_type": "markdown",
   "metadata": {},
   "source": [
    "Imagine a population of extragalactic radio sources: these are  complicated objects which exhibit intrinsic variations. This introduces randomness. The distribution of their flux densities is well described by a power law with slope $-\\alpha$. The likelihood to measure a radio flux $S$ is then\n",
    "\n",
    "$$ \\mathcal{P}(S|\\alpha) \\propto S^{-\\alpha} $$"
   ]
  },
  {
   "cell_type": "markdown",
   "metadata": {},
   "source": [
    "1. This distribution diverges at $S=0$, but telescopes can only detect a minimal limiting flux $S_0$. For $S_0 > 0$, normalize the distribution."
   ]
  },
  {
   "cell_type": "markdown",
   "metadata": {},
   "source": [
    "**Answer**: Integrate from $S_0$ to $\\infty$ over the power law.\n",
    "\n",
    "Given is \n",
    "\n",
    "$$ \\mathcal{P}(S|\\alpha) \\propto S^{-\\alpha} $$\n",
    "\n",
    "Integrate,\n",
    "\n",
    "$$ \\frac{1}{a} \\int_{S_0}^\\infty S^{-\\alpha} \\text{d}S = 1$$\n",
    "\n",
    "where $\\frac{1}{a}$ equals 1.\n",
    "\n",
    "$$ \\frac{1}{a} \\Big[ \\frac{S^{-\\alpha + 1}}{-\\alpha + 1} \\Big]_{S_0}^\\infty = 1$$\n",
    "\n",
    "$$ \\frac{1}{a} \\Big[ - \\frac{S_0^{-\\alpha + 1}}{-\\alpha + 1} \\Big] = 1 \\text{ ,where } \\alpha > 1 $$\n",
    "\n",
    "$$ a = \\Big[ - \\frac{S_0^{-\\alpha + 1}}{-\\alpha + 1} \\Big] $$\n",
    "\n",
    "$$ \\mathcal{P}(S|\\alpha) = \\Big[ - \\frac{-\\alpha + 1}{S_0^{-\\alpha + 1}} \\Big] S^{-\\alpha} $$\n",
    "\n",
    "$$ \\mathcal{P}(S|\\alpha) = \\Big[ \\frac{\\alpha - 1}{S_0^{1 - \\alpha}} \\Big] S^{-\\alpha} $$"
   ]
  },
  {
   "cell_type": "markdown",
   "metadata": {},
   "source": [
    "2. $\\mathcal{P}(S|\\alpha)$ describes how frequently you will find a source with flux $S$ if the Universe uses some value for $\\alpha$. Imagine now the inverse problem: You measured multiple fluxes $S$ and now want to infer $\\alpha$. Which distribution do you have to set up? Using a uniform prior and Bayes theorem, derive this distribution."
   ]
  },
  {
   "cell_type": "markdown",
   "metadata": {},
   "source": [
    "**Answer**: In this case, $S$ is known and you want to find $\\alpha$. So $\\mathcal{P}(\\alpha|S)$ is what you want to find.\n",
    "\n",
    "Bayes' Theorem gives:\n",
    "\n",
    "$$ \\mathcal{P}(\\alpha|S) = \\frac{\\mathcal{P}(S|\\alpha)\\mathcal{P(\\alpha)}}{\\mathcal{P}(S)} $$\n",
    "\n",
    "Given $\\mathcal{P}(a)$ is a uniform distribution and $\\mathcal{P}(S)$ is a normalization factor. This means $ \\mathcal{P}(\\alpha|S) $ and $\\mathcal{P}(S|\\alpha)$ scale the same. So:\n",
    "\n",
    "$$ \\mathcal{P}(\\alpha|S) \\propto \\Big[ \\frac{\\alpha - 1}{S_0^{1 - \\alpha}} \\Big] S^{-\\alpha} $$"
   ]
  },
  {
   "cell_type": "markdown",
   "metadata": {},
   "source": [
    "3. Imagine a single source has been observed, and its flux has the value $2S_0$ Which calculation do you have to carry out in order to infer the most likely value of $\\alpha$ after this single observation? Show that the m ost likely value is $\\alpha = 2.44$"
   ]
  },
  {
   "cell_type": "markdown",
   "metadata": {},
   "source": [
    "**Answer**:\n",
    "\n",
    "Single source observation gives:\n",
    "\n",
    "$$ S = 2S_0 $$\n",
    "\n",
    "Show that most likely value $\\alpha = 2.44$.\n",
    "\n",
    "Fill in the value, differentiate w.r.t. $\\alpha$, set equal to $0$, should give you the value $2.44$\n",
    "\n",
    "$$ \\frac{\\text{d}}{\\text{d}\\alpha} \\Big[ \\frac{\\alpha - 1}{(S_0)^{1 - \\alpha}} (2S_0)^{-\\alpha} \\Big] = 0 \\text{ gives } \\alpha = \\ln(2) + 1 = 2.44 $$\n",
    "\n",
    "$$ \\frac{\\text{d}}{\\text{d}\\alpha} \\Big[ \\frac{\\alpha - 1}{(S_0)^{1 - \\alpha}} (2S_0)^{-\\alpha} \\Big] = $$\n",
    "\n",
    "$$ \\frac{\\text{d}}{\\text{d}\\alpha} \\Big[ \\frac{(2S_0)^{-\\alpha}}{(S_0)^{1 - \\alpha}} \\alpha - 1 \\Big] = $$\n",
    "\n",
    "$$ \\frac{\\text{d}}{\\text{d}\\alpha} \\Big[ \\frac{1}{S_0} 2^{-\\alpha} \\alpha - 1 \\Big] = $$\n",
    "\n",
    "$$ \\frac{\\text{d}}{\\text{d}\\alpha} \\Big[ \\frac{\\alpha-1}{S_0} 2^{-\\alpha \\Big]} = $$\n",
    "\n",
    "$$ \\frac{\\text{d}}{\\text{d}\\alpha} (\\alpha-1) 2^{-\\alpha} = 0 $$\n",
    "\n",
    "$$ -1 \\cdot 2^{-\\alpha} + (1-\\alpha) -2^{-\\alpha} \\ln(2) = 0 $$\n",
    "\n",
    "$$ (1-\\alpha) - 2^{-\\alpha}(1 - \\ln{2}) = 0$$\n",
    "\n",
    "$$ 1 - \\alpha = - \\frac{1}{\\ln{2}} $$\n",
    "\n",
    "$$ \\alpha = \\ln(2) + 1 = 2.44 $$\n",
    "\n",
    "Some sign mistakes in here."
   ]
  },
  {
   "cell_type": "markdown",
   "metadata": {},
   "source": [
    "4. Plot the posterior of $\\alpha$. If you quoted a standard deviation for the uncertainty of $\\alpha$, which information would this omit?"
   ]
  },
  {
   "cell_type": "markdown",
   "metadata": {},
   "source": [
    "**Answer**: You would assume then that the shape is Gaussian, which might not necessarily be so, so you would omit the shape of the distribution."
   ]
  },
  {
   "cell_type": "code",
   "execution_count": 6,
   "metadata": {},
   "outputs": [],
   "source": [
    "import numpy as np\n",
    "import matplotlib.pyplot as plt"
   ]
  },
  {
   "cell_type": "code",
   "execution_count": 4,
   "metadata": {},
   "outputs": [],
   "source": [
    "def likelihood_norm(S,alpha,S_0):\n",
    "    return (alpha-1)/(S_0**(1-alpha))*S**-alpha"
   ]
  },
  {
   "cell_type": "code",
   "execution_count": 7,
   "metadata": {},
   "outputs": [],
   "source": [
    "s0 = 3\n",
    "S = np.linspace(s0,20,1000)\n",
    "P = likelihood_norm(S,1.4,s0)"
   ]
  },
  {
   "cell_type": "code",
   "execution_count": 14,
   "metadata": {},
   "outputs": [
    {
     "data": {
      "image/png": "[encoded data removed]",
      "text/plain": [
       "<Figure size 576x432 with 1 Axes>"
      ]
     },
     "metadata": {
      "needs_background": "light"
     },
     "output_type": "display_data"
    }
   ],
   "source": [
    "plt.figure(figsize=(8,6))\n",
    "plt.plot(S,P)\n",
    "plt.xlabel('Flux $S$',fontsize=14)\n",
    "plt.ylabel('Likelihood $P$',fontsize=14)\n",
    "plt.title('Likelihood distribution',fontsize=16)\n",
    "plt.show()\n",
    "plt.close()"
   ]
  },
  {
   "cell_type": "code",
   "execution_count": 15,
   "metadata": {},
   "outputs": [],
   "source": [
    "s0 = 3\n",
    "alpha = np.linspace(1,10,1000)\n",
    "P = likelihood_norm(2*s0,alpha,s0)"
   ]
  },
  {
   "cell_type": "code",
   "execution_count": 23,
   "metadata": {},
   "outputs": [
    {
     "data": {
      "image/png": "[encoded data removed]",
      "text/plain": [
       "<Figure size 576x432 with 1 Axes>"
      ]
     },
     "metadata": {
      "needs_background": "light"
     },
     "output_type": "display_data"
    }
   ],
   "source": [
    "plt.figure(figsize=(8,6))\n",
    "plt.plot(alpha,P)\n",
    "plt.xlabel(r'Alpha value $\\alpha$',fontsize=14)\n",
    "plt.ylabel(r'Likelihood $P$',fontsize=14)\n",
    "plt.title('Posterior distribution',fontsize=16)\n",
    "plt.axvline(2.44,ls='dashed',c='g')\n",
    "plt.show()\n",
    "plt.close()"
   ]
  },
  {
   "cell_type": "markdown",
   "metadata": {},
   "source": [
    "### 2. Modelling and inferring stellar properties"
   ]
  },
  {
   "cell_type": "markdown",
   "metadata": {},
   "source": [
    "According to the Stefan-boltzmann law, the luminosity $L$ of a star (seen as a black body) scales with its area $A$ and temperature $T$ as\n",
    "\n",
    "$$ L = \\sigma_T A T^4 $$"
   ]
  },
  {
   "cell_type": "markdown",
   "metadata": {},
   "source": [
    "1. Stellar temperatures result from a complicated stellar formation process and therefore vary between the stars. Assume here that the stellar temperatures are drawn from\n",
    "\n",
    "$$ T \\sim \\mathcal{G}(T_0,\\sigma) $$\n",
    "\n",
    "Derive the distribution $\\mathcal{P}(L)$ of the resulting stellar luminosities."
   ]
  },
  {
   "cell_type": "markdown",
   "metadata": {},
   "source": [
    "**Answer**:\n",
    "\n",
    "$$ \\mathcal{P}(L)dL = \\mathcal{P}(T)dT $$\n",
    "\n",
    "$$ \\mathcal{P}(L) = \\mathcal{P}(T) \\bigg| \\frac{dT}{dL} \\bigg| $$\n",
    "\n",
    "$$ L = \\sigma_T A T^4 \\text{ gives } T = \\bigg( \\frac{L}{\\sigma_T A} \\bigg)^\\frac{1}{4} $$\n",
    "\n",
    "$$ \\frac{dT}{dL} = \\frac{1}{4} \\bigg( \\frac{L}{\\sigma_T A} \\bigg)^{-\\frac{3}{4}} $$\n",
    "\n",
    "$$ \\mathcal{P}(L) = \\mathcal{P}(T) \\cdot \\frac{1}{4} \\bigg( \\frac{L}{\\sigma_T A} \\bigg)^{-\\frac{3}{4}} $$\n",
    "\n",
    "$$ \\mathcal{P}(T(L)) = \\frac{1}{{\\sigma \\sqrt{2\\pi }}} e^{{{ -0.5 \\left( {T - T_0 } \\right)^2/\\sigma^2 }}} = \\frac{1}{{\\sigma \\sqrt{2\\pi }}} e^{{{ -0.5 \\left( {\\bigg( \\frac{L}{\\sigma_T A} \\bigg)^\\frac{1}{4} - T_0 } \\right)^2/\\sigma^2 }}} $$\n",
    "\n",
    "$$ \\mathcal{P}(L) = \\frac{1}{{\\sigma \\sqrt{2\\pi }}} e^{{{ -0.5 \\left( {\\bigg( \\frac{L}{\\sigma_T A} \\bigg)^\\frac{1}{4} - T_0 } \\right)^2/\\sigma^2 }}} \\cdot \\frac{1}{4} \\bigg( \\frac{L}{\\sigma_T A} \\bigg)^{-\\frac{3}{4}} $$\n",
    "\n",
    "**Question**: Is this correct?"
   ]
  },
  {
   "cell_type": "markdown",
   "metadata": {},
   "source": [
    "2. For $T_0 = 10$, $\\sigma=1$, $A=1$, plot the distribution function of stellar luminosities."
   ]
  },
  {
   "cell_type": "code",
   "execution_count": 30,
   "metadata": {},
   "outputs": [],
   "source": [
    "T_0 = 10\n",
    "sigma = 1\n",
    "A = 1\n",
    "L = np.linspace(1,30000,30000)"
   ]
  },
  {
   "cell_type": "code",
   "execution_count": 31,
   "metadata": {},
   "outputs": [],
   "source": [
    "def lum_dist(L,T_0,sigma,A):\n",
    "    ratio = L/(sigma*A)\n",
    "    exponent = -0.5*(((ratio)**0.25-T_0)**2)/sigma**2\n",
    "    part_1 = 1/(sigma*np.sqrt(2*np.pi))*np.exp(exponent)\n",
    "    part_2 = 0.25*ratio**-0.75\n",
    "    total = part_1 * part_2\n",
    "    return total"
   ]
  },
  {
   "cell_type": "code",
   "execution_count": 32,
   "metadata": {},
   "outputs": [
    {
     "data": {
      "image/png": "[encoded data removed]",
      "text/plain": [
       "<Figure size 576x432 with 1 Axes>"
      ]
     },
     "metadata": {
      "needs_background": "light"
     },
     "output_type": "display_data"
    }
   ],
   "source": [
    "plt.figure(figsize=(8,6))\n",
    "plt.plot(L,lum_dist(L,T_0,sigma,A))\n",
    "plt.xlabel(r'Luminosity $L$',fontsize=14)\n",
    "plt.ylabel(r'Lujminosity distribution $\\mathcal{P}(L)$',fontsize=14)\n",
    "plt.title('Luminosity distribution',fontsize=16)\n",
    "plt.show()\n",
    "plt.close()"
   ]
  },
  {
   "cell_type": "markdown",
   "metadata": {},
   "source": [
    "3. Generate random samples from $\\mathcal{P}(L)$, histogram them, and show that the histogram approximates $\\mathcal{P}(L)$ for sufficiently many samples."
   ]
  },
  {
   "cell_type": "code",
   "execution_count": 57,
   "metadata": {},
   "outputs": [
    {
     "name": "stdout",
     "output_type": "stream",
     "text": [
      "[19902  1268 16803 15038 16842  7799  6784 17618  2229 25901  7998 16552\n",
      "  7858 10467  9809   278 19571  5113 19998 12650 18287 29254   212  9939\n",
      "  9678  2400  6091 23553 26375   219   965 19626 25982 18134 27217 24163\n",
      " 22713 27219  5867 19481 21635 14791 29075 18143 19429   337 24706  7832\n",
      " 16590  2271 12275 17185 17905 28264  8989  1667   448  6889  2566 26874\n",
      "  9189 20711 14908 29464 25490 25886  3211 17773  5574 24525 16196 28397\n",
      "  3269   473  7972 19989 11580 10558 14811 25081   892  6132 14822 11046\n",
      "  6242  6558 13353 14224   779  7594  8140 26153 20202 18929 16620   327\n",
      "   697 16449  7771  8247]\n"
     ]
    }
   ],
   "source": [
    "L_100 = np.random.randint(1,30000,100)\n",
    "print(L_100)\n",
    "P_L = lum_dist(L,T_0,sigma,A)"
   ]
  },
  {
   "cell_type": "code",
   "execution_count": 60,
   "metadata": {},
   "outputs": [
    {
     "ename": "AttributeError",
     "evalue": "Unknown property binsize",
     "output_type": "error",
     "traceback": [
      "\u001b[0;31m---------------------------------------------------------------------------\u001b[0m",
      "\u001b[0;31mAttributeError\u001b[0m                            Traceback (most recent call last)",
      "\u001b[0;32m<ipython-input-60-2d3e238ca3f6>\u001b[0m in \u001b[0;36m<module>\u001b[0;34m()\u001b[0m\n\u001b[1;32m      1\u001b[0m \u001b[0mplt\u001b[0m\u001b[0;34m.\u001b[0m\u001b[0mfigure\u001b[0m\u001b[0;34m(\u001b[0m\u001b[0mfigsize\u001b[0m\u001b[0;34m=\u001b[0m\u001b[0;34m(\u001b[0m\u001b[0;36m8\u001b[0m\u001b[0;34m,\u001b[0m\u001b[0;36m6\u001b[0m\u001b[0;34m)\u001b[0m\u001b[0;34m)\u001b[0m\u001b[0;34m\u001b[0m\u001b[0;34m\u001b[0m\u001b[0m\n\u001b[0;32m----> 2\u001b[0;31m \u001b[0mplt\u001b[0m\u001b[0;34m.\u001b[0m\u001b[0mhist\u001b[0m\u001b[0;34m(\u001b[0m\u001b[0mL\u001b[0m\u001b[0;34m,\u001b[0m\u001b[0mbins\u001b[0m\u001b[0;34m=\u001b[0m\u001b[0;36m100\u001b[0m\u001b[0;34m,\u001b[0m\u001b[0mbinsize\u001b[0m\u001b[0;34m=\u001b[0m\u001b[0;36m0.9\u001b[0m\u001b[0;34m)\u001b[0m\u001b[0;34m\u001b[0m\u001b[0;34m\u001b[0m\u001b[0m\n\u001b[0m\u001b[1;32m      3\u001b[0m \u001b[0mplt\u001b[0m\u001b[0;34m.\u001b[0m\u001b[0mshow\u001b[0m\u001b[0;34m(\u001b[0m\u001b[0;34m)\u001b[0m\u001b[0;34m\u001b[0m\u001b[0;34m\u001b[0m\u001b[0m\n\u001b[1;32m      4\u001b[0m \u001b[0mplt\u001b[0m\u001b[0;34m.\u001b[0m\u001b[0mclose\u001b[0m\u001b[0;34m(\u001b[0m\u001b[0;34m)\u001b[0m\u001b[0;34m\u001b[0m\u001b[0;34m\u001b[0m\u001b[0m\n",
      "\u001b[0;32m/software/local/lib64/python3.7/site-packages/matplotlib/pyplot.py\u001b[0m in \u001b[0;36mhist\u001b[0;34m(x, bins, range, density, weights, cumulative, bottom, histtype, align, orientation, rwidth, log, color, label, stacked, normed, hold, data, **kwargs)\u001b[0m\n\u001b[1;32m   3135\u001b[0m                       \u001b[0mhisttype\u001b[0m\u001b[0;34m=\u001b[0m\u001b[0mhisttype\u001b[0m\u001b[0;34m,\u001b[0m \u001b[0malign\u001b[0m\u001b[0;34m=\u001b[0m\u001b[0malign\u001b[0m\u001b[0;34m,\u001b[0m \u001b[0morientation\u001b[0m\u001b[0;34m=\u001b[0m\u001b[0morientation\u001b[0m\u001b[0;34m,\u001b[0m\u001b[0;34m\u001b[0m\u001b[0;34m\u001b[0m\u001b[0m\n\u001b[1;32m   3136\u001b[0m                       \u001b[0mrwidth\u001b[0m\u001b[0;34m=\u001b[0m\u001b[0mrwidth\u001b[0m\u001b[0;34m,\u001b[0m \u001b[0mlog\u001b[0m\u001b[0;34m=\u001b[0m\u001b[0mlog\u001b[0m\u001b[0;34m,\u001b[0m \u001b[0mcolor\u001b[0m\u001b[0;34m=\u001b[0m\u001b[0mcolor\u001b[0m\u001b[0;34m,\u001b[0m \u001b[0mlabel\u001b[0m\u001b[0;34m=\u001b[0m\u001b[0mlabel\u001b[0m\u001b[0;34m,\u001b[0m\u001b[0;34m\u001b[0m\u001b[0;34m\u001b[0m\u001b[0m\n\u001b[0;32m-> 3137\u001b[0;31m                       stacked=stacked, normed=normed, data=data, **kwargs)\n\u001b[0m\u001b[1;32m   3138\u001b[0m     \u001b[0;32mfinally\u001b[0m\u001b[0;34m:\u001b[0m\u001b[0;34m\u001b[0m\u001b[0;34m\u001b[0m\u001b[0m\n\u001b[1;32m   3139\u001b[0m         \u001b[0max\u001b[0m\u001b[0;34m.\u001b[0m\u001b[0m_hold\u001b[0m \u001b[0;34m=\u001b[0m \u001b[0mwashold\u001b[0m\u001b[0;34m\u001b[0m\u001b[0;34m\u001b[0m\u001b[0m\n",
      "\u001b[0;32m/software/local/lib64/python3.7/site-packages/matplotlib/__init__.py\u001b[0m in \u001b[0;36minner\u001b[0;34m(ax, *args, **kwargs)\u001b[0m\n\u001b[1;32m   1865\u001b[0m                         \u001b[0;34m\"the Matplotlib list!)\"\u001b[0m \u001b[0;34m%\u001b[0m \u001b[0;34m(\u001b[0m\u001b[0mlabel_namer\u001b[0m\u001b[0;34m,\u001b[0m \u001b[0mfunc\u001b[0m\u001b[0;34m.\u001b[0m\u001b[0m__name__\u001b[0m\u001b[0;34m)\u001b[0m\u001b[0;34m,\u001b[0m\u001b[0;34m\u001b[0m\u001b[0;34m\u001b[0m\u001b[0m\n\u001b[1;32m   1866\u001b[0m                         RuntimeWarning, stacklevel=2)\n\u001b[0;32m-> 1867\u001b[0;31m             \u001b[0;32mreturn\u001b[0m \u001b[0mfunc\u001b[0m\u001b[0;34m(\u001b[0m\u001b[0max\u001b[0m\u001b[0;34m,\u001b[0m \u001b[0;34m*\u001b[0m\u001b[0margs\u001b[0m\u001b[0;34m,\u001b[0m \u001b[0;34m**\u001b[0m\u001b[0mkwargs\u001b[0m\u001b[0;34m)\u001b[0m\u001b[0;34m\u001b[0m\u001b[0;34m\u001b[0m\u001b[0m\n\u001b[0m\u001b[1;32m   1868\u001b[0m \u001b[0;34m\u001b[0m\u001b[0m\n\u001b[1;32m   1869\u001b[0m         inner.__doc__ = _add_data_doc(inner.__doc__,\n",
      "\u001b[0;32m/software/local/lib64/python3.7/site-packages/matplotlib/axes/_axes.py\u001b[0m in \u001b[0;36mhist\u001b[0;34m(***failed resolving arguments***)\u001b[0m\n\u001b[1;32m   6825\u001b[0m             \u001b[0;32mif\u001b[0m \u001b[0mpatch\u001b[0m\u001b[0;34m:\u001b[0m\u001b[0;34m\u001b[0m\u001b[0;34m\u001b[0m\u001b[0m\n\u001b[1;32m   6826\u001b[0m                 \u001b[0mp\u001b[0m \u001b[0;34m=\u001b[0m \u001b[0mpatch\u001b[0m\u001b[0;34m[\u001b[0m\u001b[0;36m0\u001b[0m\u001b[0;34m]\u001b[0m\u001b[0;34m\u001b[0m\u001b[0;34m\u001b[0m\u001b[0m\n\u001b[0;32m-> 6827\u001b[0;31m                 \u001b[0mp\u001b[0m\u001b[0;34m.\u001b[0m\u001b[0mupdate\u001b[0m\u001b[0;34m(\u001b[0m\u001b[0mkwargs\u001b[0m\u001b[0;34m)\u001b[0m\u001b[0;34m\u001b[0m\u001b[0;34m\u001b[0m\u001b[0m\n\u001b[0m\u001b[1;32m   6828\u001b[0m                 \u001b[0;32mif\u001b[0m \u001b[0mlbl\u001b[0m \u001b[0;32mis\u001b[0m \u001b[0;32mnot\u001b[0m \u001b[0;32mNone\u001b[0m\u001b[0;34m:\u001b[0m\u001b[0;34m\u001b[0m\u001b[0;34m\u001b[0m\u001b[0m\n\u001b[1;32m   6829\u001b[0m                     \u001b[0mp\u001b[0m\u001b[0;34m.\u001b[0m\u001b[0mset_label\u001b[0m\u001b[0;34m(\u001b[0m\u001b[0mlbl\u001b[0m\u001b[0;34m)\u001b[0m\u001b[0;34m\u001b[0m\u001b[0;34m\u001b[0m\u001b[0m\n",
      "\u001b[0;32m/software/local/lib64/python3.7/site-packages/matplotlib/artist.py\u001b[0m in \u001b[0;36mupdate\u001b[0;34m(self, props)\u001b[0m\n\u001b[1;32m    886\u001b[0m         \u001b[0;32mtry\u001b[0m\u001b[0;34m:\u001b[0m\u001b[0;34m\u001b[0m\u001b[0;34m\u001b[0m\u001b[0m\n\u001b[1;32m    887\u001b[0m             ret = [_update_property(self, k, v)\n\u001b[0;32m--> 888\u001b[0;31m                    for k, v in props.items()]\n\u001b[0m\u001b[1;32m    889\u001b[0m         \u001b[0;32mfinally\u001b[0m\u001b[0;34m:\u001b[0m\u001b[0;34m\u001b[0m\u001b[0;34m\u001b[0m\u001b[0m\n\u001b[1;32m    890\u001b[0m             \u001b[0mself\u001b[0m\u001b[0;34m.\u001b[0m\u001b[0meventson\u001b[0m \u001b[0;34m=\u001b[0m \u001b[0mstore\u001b[0m\u001b[0;34m\u001b[0m\u001b[0;34m\u001b[0m\u001b[0m\n",
      "\u001b[0;32m/software/local/lib64/python3.7/site-packages/matplotlib/artist.py\u001b[0m in \u001b[0;36m<listcomp>\u001b[0;34m(.0)\u001b[0m\n\u001b[1;32m    886\u001b[0m         \u001b[0;32mtry\u001b[0m\u001b[0;34m:\u001b[0m\u001b[0;34m\u001b[0m\u001b[0;34m\u001b[0m\u001b[0m\n\u001b[1;32m    887\u001b[0m             ret = [_update_property(self, k, v)\n\u001b[0;32m--> 888\u001b[0;31m                    for k, v in props.items()]\n\u001b[0m\u001b[1;32m    889\u001b[0m         \u001b[0;32mfinally\u001b[0m\u001b[0;34m:\u001b[0m\u001b[0;34m\u001b[0m\u001b[0;34m\u001b[0m\u001b[0m\n\u001b[1;32m    890\u001b[0m             \u001b[0mself\u001b[0m\u001b[0;34m.\u001b[0m\u001b[0meventson\u001b[0m \u001b[0;34m=\u001b[0m \u001b[0mstore\u001b[0m\u001b[0;34m\u001b[0m\u001b[0;34m\u001b[0m\u001b[0m\n",
      "\u001b[0;32m/software/local/lib64/python3.7/site-packages/matplotlib/artist.py\u001b[0m in \u001b[0;36m_update_property\u001b[0;34m(self, k, v)\u001b[0m\n\u001b[1;32m    879\u001b[0m                 \u001b[0mfunc\u001b[0m \u001b[0;34m=\u001b[0m \u001b[0mgetattr\u001b[0m\u001b[0;34m(\u001b[0m\u001b[0mself\u001b[0m\u001b[0;34m,\u001b[0m \u001b[0;34m'set_'\u001b[0m \u001b[0;34m+\u001b[0m \u001b[0mk\u001b[0m\u001b[0;34m,\u001b[0m \u001b[0;32mNone\u001b[0m\u001b[0;34m)\u001b[0m\u001b[0;34m\u001b[0m\u001b[0;34m\u001b[0m\u001b[0m\n\u001b[1;32m    880\u001b[0m                 \u001b[0;32mif\u001b[0m \u001b[0;32mnot\u001b[0m \u001b[0mcallable\u001b[0m\u001b[0;34m(\u001b[0m\u001b[0mfunc\u001b[0m\u001b[0;34m)\u001b[0m\u001b[0;34m:\u001b[0m\u001b[0;34m\u001b[0m\u001b[0;34m\u001b[0m\u001b[0m\n\u001b[0;32m--> 881\u001b[0;31m                     \u001b[0;32mraise\u001b[0m \u001b[0mAttributeError\u001b[0m\u001b[0;34m(\u001b[0m\u001b[0;34m'Unknown property %s'\u001b[0m \u001b[0;34m%\u001b[0m \u001b[0mk\u001b[0m\u001b[0;34m)\u001b[0m\u001b[0;34m\u001b[0m\u001b[0;34m\u001b[0m\u001b[0m\n\u001b[0m\u001b[1;32m    882\u001b[0m                 \u001b[0;32mreturn\u001b[0m \u001b[0mfunc\u001b[0m\u001b[0;34m(\u001b[0m\u001b[0mv\u001b[0m\u001b[0;34m)\u001b[0m\u001b[0;34m\u001b[0m\u001b[0;34m\u001b[0m\u001b[0m\n\u001b[1;32m    883\u001b[0m \u001b[0;34m\u001b[0m\u001b[0m\n",
      "\u001b[0;31mAttributeError\u001b[0m: Unknown property binsize"
     ]
    },
    {
     "data": {
      "image/png": "[encoded data removed]",
      "text/plain": [
       "<Figure size 576x432 with 1 Axes>"
      ]
     },
     "metadata": {
      "needs_background": "light"
     },
     "output_type": "display_data"
    }
   ],
   "source": [
    "plt.figure(figsize=(8,6))\n",
    "plt.hist(L,bins=100,binsize=0.9)\n",
    "plt.show()\n",
    "plt.close()"
   ]
  },
  {
   "cell_type": "markdown",
   "metadata": {},
   "source": [
    "### 3. Satellites: the next generation"
   ]
  },
  {
   "cell_type": "markdown",
   "metadata": {},
   "source": [
    "Measurement campaigns are frequently organized in stages. For example, an elderly satellite will be replaced by a new satellite with the same scientific task but better design. This happened e.g. when WMAP was followed up by Planck. In this context, the posterior of an old  experiment can be reinterpreted as a ‘datadriven prior’, and can then be combined with the likelihood of the new experiment, to yield the updated posterior. Here, we investigate this interplay of priors and likelihoods. Assume a data point $y$ has a Gaussian sampling distribution with mean $\\theta$ and variance $\\sigma^2$\n",
    "\n",
    "$$ y \\sim \\mathcal{G}(\\theta,\\sigma^2) $$\n",
    "\n",
    "The Gaussian is self-conjugate, i.e. a Gaussian prior times a Gaussian likelikhood will lead to a Gaussian posterior. Therefore, let us use the prior\n",
    "\n",
    "$$ \\theta \\sim \\mathcal{G}(\\mu_0,\\tau_0^2) $$"
   ]
  },
  {
   "cell_type": "markdown",
   "metadata": {},
   "source": [
    "1. Which hypter-parameters occur here?"
   ]
  },
  {
   "cell_type": "code",
   "execution_count": null,
   "metadata": {},
   "outputs": [],
   "source": []
  },
  {
   "cell_type": "markdown",
   "metadata": {},
   "source": [
    "2. Derive the posterior $\\mathcal{P}(\\theta|y)$"
   ]
  },
  {
   "cell_type": "code",
   "execution_count": null,
   "metadata": {},
   "outputs": [],
   "source": []
  },
  {
   "cell_type": "markdown",
   "metadata": {},
   "source": [
    "3. Plot prior and posterior."
   ]
  },
  {
   "cell_type": "code",
   "execution_count": null,
   "metadata": {},
   "outputs": [],
   "source": []
  },
  {
   "cell_type": "markdown",
   "metadata": {},
   "source": [
    "4. For which values of the hyperparameters do you have a highly informative, or uninformative prior?"
   ]
  },
  {
   "cell_type": "code",
   "execution_count": null,
   "metadata": {},
   "outputs": [],
   "source": []
  },
  {
   "cell_type": "markdown",
   "metadata": {},
   "source": [
    "5. If the prior describes the older experiment, what does an informative prior then express?"
   ]
  },
  {
   "cell_type": "code",
   "execution_count": null,
   "metadata": {},
   "outputs": [],
   "source": []
  },
  {
   "cell_type": "markdown",
   "metadata": {},
   "source": [
    "6. If the prior does not describe any older experiment, but simply an assumed distribution which on eneeds to pick because one needs a prior after all... what does the informative prior then describe?"
   ]
  },
  {
   "cell_type": "code",
   "execution_count": null,
   "metadata": {},
   "outputs": [],
   "source": []
  },
  {
   "cell_type": "markdown",
   "metadata": {},
   "source": [
    "7. How do you have to set the hyper-parameters to reach a limit where the prior disagrees with the sampling distribution on likely values for $\\theta$? If the prior describes an older experiment, what does this disagreement then describe?"
   ]
  },
  {
   "cell_type": "code",
   "execution_count": null,
   "metadata": {},
   "outputs": [],
   "source": []
  },
  {
   "cell_type": "code",
   "execution_count": null,
   "metadata": {},
   "outputs": [],
   "source": []
  }
 ],
 "metadata": {
  "kernelspec": {
   "display_name": "Python 3",
   "language": "python",
   "name": "python3"
  },
  "language_info": {
   "codemirror_mode": {
    "name": "ipython",
    "version": 3
   },
   "file_extension": ".py",
   "mimetype": "text/x-python",
   "name": "python",
   "nbconvert_exporter": "python",
   "pygments_lexer": "ipython3",
   "version": "3.7.6"
  }
 },
 "nbformat": 4,
 "nbformat_minor": 2
}
